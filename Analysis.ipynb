{
 "cells": [
  {
   "cell_type": "code",
   "execution_count": 1,
   "metadata": {
    "ExecuteTime": {
     "end_time": "2019-06-08T16:42:46.839714Z",
     "start_time": "2019-06-08T16:42:46.547098Z"
    }
   },
   "outputs": [],
   "source": [
    "import numpy as np\n",
    "import pandas as pd"
   ]
  },
  {
   "cell_type": "code",
   "execution_count": 2,
   "metadata": {
    "ExecuteTime": {
     "end_time": "2019-06-08T16:42:47.101962Z",
     "start_time": "2019-06-08T16:42:46.841921Z"
    }
   },
   "outputs": [],
   "source": [
    "from scipy.io import arff\n",
    "\n",
    "data = arff.loadarff('EEG Eye State.arff')\n",
    "df = pd.DataFrame(data[0])"
   ]
  },
  {
   "cell_type": "code",
   "execution_count": 3,
   "metadata": {
    "ExecuteTime": {
     "end_time": "2019-06-08T16:42:47.113721Z",
     "start_time": "2019-06-08T16:42:47.104409Z"
    }
   },
   "outputs": [],
   "source": [
    "df[\"eyeDetection\"] = df[\"eyeDetection\"].map({b'0':\"0\", b'1':1})\n",
    "df[\"eyeDetection\"] = df[\"eyeDetection\"].astype(int)"
   ]
  },
  {
   "cell_type": "code",
   "execution_count": 4,
   "metadata": {
    "ExecuteTime": {
     "end_time": "2019-06-08T16:42:47.416136Z",
     "start_time": "2019-06-08T16:42:47.116374Z"
    },
    "scrolled": true
   },
   "outputs": [],
   "source": [
    "df_class = pd.read_csv(\"classified_data.csv\")\n",
    "df_class.drop([\"Unnamed: 0\"],axis=1, inplace=True)\n",
    "df_class[\"Class\"] = df_class[\"Class\"].map({\"SIGNAL\":1, \"BLINK\": 0})"
   ]
  },
  {
   "cell_type": "code",
   "execution_count": 5,
   "metadata": {
    "ExecuteTime": {
     "end_time": "2019-06-08T16:42:47.630839Z",
     "start_time": "2019-06-08T16:42:47.418903Z"
    }
   },
   "outputs": [
    {
     "data": {
      "text/plain": [
       "KNeighborsClassifier(algorithm='auto', leaf_size=30, metric='minkowski',\n",
       "           metric_params=None, n_jobs=1, n_neighbors=5, p=2,\n",
       "           weights='uniform')"
      ]
     },
     "execution_count": 5,
     "metadata": {},
     "output_type": "execute_result"
    }
   ],
   "source": [
    "from sklearn.neighbors import KNeighborsClassifier\n",
    "neigh = KNeighborsClassifier(n_neighbors=5)\n",
    "\n",
    "X = df_class.drop([\"Class\"], axis=1)\n",
    "X = X[[\"Channel 2\", \"Channel 6\"]]\n",
    "y = df_class[\"Class\"]\n",
    "\n",
    "neigh.fit(X, y) "
   ]
  },
  {
   "cell_type": "code",
   "execution_count": 6,
   "metadata": {
    "ExecuteTime": {
     "end_time": "2019-06-08T16:42:47.744238Z",
     "start_time": "2019-06-08T16:42:47.633773Z"
    }
   },
   "outputs": [
    {
     "data": {
      "text/plain": [
       "0.5512016021361815"
      ]
     },
     "execution_count": 6,
     "metadata": {},
     "output_type": "execute_result"
    }
   ],
   "source": [
    "X_test = df.drop([\"eyeDetection\"], axis=1)\n",
    "X_test = X_test[[\"AF3\", \"AF4\"]]\n",
    "y_test = neigh.predict(X_test)\n",
    "\n",
    "neigh.score(X_test,df[\"eyeDetection\"])"
   ]
  },
  {
   "cell_type": "code",
   "execution_count": 7,
   "metadata": {
    "ExecuteTime": {
     "end_time": "2019-06-08T16:42:47.767967Z",
     "start_time": "2019-06-08T16:42:47.749409Z"
    }
   },
   "outputs": [
    {
     "name": "stdout",
     "output_type": "stream",
     "text": [
      "<class 'pandas.core.frame.DataFrame'>\n",
      "RangeIndex: 14980 entries, 0 to 14979\n",
      "Data columns (total 15 columns):\n",
      "AF3             14980 non-null float64\n",
      "F7              14980 non-null float64\n",
      "F3              14980 non-null float64\n",
      "FC5             14980 non-null float64\n",
      "T7              14980 non-null float64\n",
      "P7              14980 non-null float64\n",
      "O1              14980 non-null float64\n",
      "O2              14980 non-null float64\n",
      "P8              14980 non-null float64\n",
      "T8              14980 non-null float64\n",
      "FC6             14980 non-null float64\n",
      "F4              14980 non-null float64\n",
      "F8              14980 non-null float64\n",
      "AF4             14980 non-null float64\n",
      "eyeDetection    14980 non-null int64\n",
      "dtypes: float64(14), int64(1)\n",
      "memory usage: 1.7 MB\n"
     ]
    }
   ],
   "source": [
    "df.info()"
   ]
  },
  {
   "cell_type": "code",
   "execution_count": 8,
   "metadata": {
    "ExecuteTime": {
     "end_time": "2019-06-08T16:42:47.845316Z",
     "start_time": "2019-06-08T16:42:47.773734Z"
    }
   },
   "outputs": [
    {
     "data": {
      "text/plain": [
       "0    8257\n",
       "1    6723\n",
       "Name: eyeDetection, dtype: int64"
      ]
     },
     "execution_count": 8,
     "metadata": {},
     "output_type": "execute_result"
    }
   ],
   "source": [
    "df['eyeDetection'].value_counts()"
   ]
  },
  {
   "cell_type": "code",
   "execution_count": null,
   "metadata": {},
   "outputs": [],
   "source": []
  },
  {
   "cell_type": "code",
   "execution_count": null,
   "metadata": {},
   "outputs": [],
   "source": []
  },
  {
   "cell_type": "code",
   "execution_count": 9,
   "metadata": {
    "ExecuteTime": {
     "end_time": "2019-06-08T16:42:47.928917Z",
     "start_time": "2019-06-08T16:42:47.848518Z"
    }
   },
   "outputs": [
    {
     "data": {
      "text/plain": [
       "KNeighborsClassifier(algorithm='auto', leaf_size=30, metric='minkowski',\n",
       "           metric_params=None, n_jobs=1, n_neighbors=5, p=2,\n",
       "           weights='uniform')"
      ]
     },
     "execution_count": 9,
     "metadata": {},
     "output_type": "execute_result"
    }
   ],
   "source": [
    "X2 = df.drop([\"eyeDetection\"], axis=1)\n",
    "X2 = X_test[[\"AF3\", \"AF4\"]]\n",
    "y2 = df[\"eyeDetection\"]\n",
    "neigh.fit(X2, y2) "
   ]
  },
  {
   "cell_type": "code",
   "execution_count": 10,
   "metadata": {
    "ExecuteTime": {
     "end_time": "2019-06-08T16:42:48.211769Z",
     "start_time": "2019-06-08T16:42:47.931837Z"
    }
   },
   "outputs": [
    {
     "data": {
      "text/plain": [
       "0.7246328437917223"
      ]
     },
     "execution_count": 10,
     "metadata": {},
     "output_type": "execute_result"
    }
   ],
   "source": [
    "X2_test = df_class.drop([\"Class\"], axis=1)\n",
    "X2_test = X[[\"Channel 2\", \"Channel 6\"]]\n",
    "\n",
    "y2_test = neigh.predict(X2_test)\n",
    "\n",
    "neigh.score(X2,y2)"
   ]
  },
  {
   "cell_type": "code",
   "execution_count": 11,
   "metadata": {
    "ExecuteTime": {
     "end_time": "2019-06-08T16:42:48.229030Z",
     "start_time": "2019-06-08T16:42:48.221290Z"
    }
   },
   "outputs": [],
   "source": [
    "df_class[\"Class2\"] = y2_test"
   ]
  },
  {
   "cell_type": "code",
   "execution_count": 12,
   "metadata": {
    "ExecuteTime": {
     "end_time": "2019-06-08T16:42:48.312348Z",
     "start_time": "2019-06-08T16:42:48.234238Z"
    }
   },
   "outputs": [
    {
     "data": {
      "text/plain": [
       "1    51833\n",
       "0     2034\n",
       "Name: Class, dtype: int64"
      ]
     },
     "execution_count": 12,
     "metadata": {},
     "output_type": "execute_result"
    }
   ],
   "source": [
    "df_class[\"Class\"].value_counts()"
   ]
  },
  {
   "cell_type": "code",
   "execution_count": 13,
   "metadata": {
    "ExecuteTime": {
     "end_time": "2019-06-08T16:42:48.373840Z",
     "start_time": "2019-06-08T16:42:48.317477Z"
    }
   },
   "outputs": [
    {
     "data": {
      "text/plain": [
       "0    53867\n",
       "Name: Class2, dtype: int64"
      ]
     },
     "execution_count": 13,
     "metadata": {},
     "output_type": "execute_result"
    }
   ],
   "source": [
    "df_class[\"Class2\"].value_counts()"
   ]
  },
  {
   "cell_type": "code",
   "execution_count": null,
   "metadata": {},
   "outputs": [],
   "source": []
  }
 ],
 "metadata": {
  "kernelspec": {
   "display_name": "Python 3",
   "language": "python",
   "name": "python3"
  },
  "language_info": {
   "codemirror_mode": {
    "name": "ipython",
    "version": 3
   },
   "file_extension": ".py",
   "mimetype": "text/x-python",
   "name": "python",
   "nbconvert_exporter": "python",
   "pygments_lexer": "ipython3",
   "version": "3.7.2"
  }
 },
 "nbformat": 4,
 "nbformat_minor": 2
}
